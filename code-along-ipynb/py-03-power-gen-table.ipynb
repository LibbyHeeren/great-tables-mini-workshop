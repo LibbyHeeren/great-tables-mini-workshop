{
  "cells": [
    {
      "cell_type": "markdown",
      "metadata": {},
      "source": [
        "# Code Along: Power Generation Table\n",
        "\n",
        "## Start\n",
        "\n",
        "Setting up."
      ]
    },
    {
      "cell_type": "code",
      "execution_count": null,
      "metadata": {},
      "outputs": [],
      "source": [
        "import pandas as pd\n",
        "from great_tables import GT, md"
      ]
    },
    {
      "cell_type": "markdown",
      "metadata": {},
      "source": [
        "Importing the data."
      ]
    },
    {
      "cell_type": "code",
      "execution_count": null,
      "metadata": {},
      "outputs": [],
      "source": [
        "power_generation = pd.read_csv(\"../data/power-generation.csv\")\n",
        "\n",
        "power_generation"
      ]
    },
    {
      "cell_type": "markdown",
      "metadata": {},
      "source": [
        "Let's get the data into Great Tables."
      ]
    },
    {
      "cell_type": "code",
      "execution_count": null,
      "metadata": {},
      "outputs": [],
      "source": [
        "gt_tbl_1 = GT(power_generation)\n",
        "\n",
        "gt_tbl_1"
      ]
    },
    {
      "cell_type": "markdown",
      "metadata": {},
      "source": [
        "## tab_source_note() and cols_width()\n",
        "\n",
        "Add a title to the table to explain contents. Use this title:\n",
        "\n",
        "\"2023 Mean Carbon Intensity (gCO2eq/kWh) and Power Consumption Breakdown (%)\"\n",
        "\n",
        "and make sure 'Carbon Intensity' and 'Power Consumption' are in bold lettering."
      ]
    },
    {
      "cell_type": "code",
      "execution_count": null,
      "metadata": {},
      "outputs": [],
      "source": [
        "gt_tbl_2 = (\n",
        "    gt_tbl_1\n",
        "    .tab_header(\n",
        "        title=md(\"2023 Mean **Carbon Intensity** (gCO2eq/kWh) and **Power Consumption** Breakdown (%)\")\n",
        "    )\n",
        ")\n",
        "\n",
        "gt_tbl_2"
      ]
    },
    {
      "cell_type": "markdown",
      "metadata": {},
      "source": [
        "Add some explanations to the footer of the table (to further explain things).\n",
        "Provide the data source (`api.electricitymap.org`) and the methodology (linking \n",
        "to `https://www.electricitymaps.com/methodology`). Also state that some\n",
        "emissions factors are based on IPCC 2014 defaults, while some are based on\n",
        "more accurate regional factors."
      ]
    },
    {
      "cell_type": "code",
      "execution_count": null,
      "metadata": {},
      "outputs": [],
      "source": [
        "gt_tbl_3 = (\n",
        "    gt_tbl_2\n",
        "    .tab_source_note(\n",
        "        md(\n",
        "            '<br><div style=\"text-align: left;\">'\n",
        "            \"**Source**: api.electricitymap.org\" \n",
        "            \" | **Methodology**: https://www.electricitymaps.com/methodology.\" \n",
        "            \" Some emissions factors are based on IPCC 2014 defaults, while some are based on more accurate regional factors.\"\n",
        "            \"<br>All zones are publicly available on the *Carbon intensity and emission factors* tab via Google docs link<br>\"\n",
        "            \"</div>\"\n",
        "            \"<br>\"\n",
        "        )\n",
        "    )\n",
        ")\n",
        "\n",
        "gt_tbl_3"
      ]
    },
    {
      "cell_type": "markdown",
      "metadata": {},
      "source": [
        "Make the width of the `Zone` column 120px. All other columns fixed at 85px."
      ]
    },
    {
      "cell_type": "code",
      "execution_count": null,
      "metadata": {},
      "outputs": [],
      "source": [
        "gt_tbl_4 = (\n",
        "    gt_tbl_3\n",
        "    .cols_width(\n",
        "        {\n",
        "            \"Zone\": \"120px\",\n",
        "            \"CO2 Intensity\": \"85px\",\n",
        "            \"Hydro\": \"85px\",\n",
        "            \"Nuclear\": \"85px\",\n",
        "            \"Wind\": \"85px\",\n",
        "            \"Solar\": \"85px\",\n",
        "            \"Geothermal\": \"85px\",\n",
        "            \"Biomass\": \"85px\",\n",
        "            \"Gas\": \"85px\",\n",
        "            \"Coal\": \"85px\",\n",
        "            \"Oil\": \"85px\",\n",
        "            \"Unknown\": \"85px\",\n",
        "            \"Hydro Discharge\": \"85px\",\n",
        "            \"Battery Discharge\": \"85px\"\n",
        "        }\n",
        "    ) \n",
        ")\n",
        "\n",
        "gt_tbl_4"
      ]
    },
    {
      "cell_type": "markdown",
      "metadata": {},
      "source": [
        "## Formatting Values Within the Table Body\n",
        "\n",
        "Format the fractional values by turning them into percentages."
      ]
    },
    {
      "cell_type": "code",
      "execution_count": null,
      "metadata": {},
      "outputs": [],
      "source": [
        "gt_tbl_5 = (\n",
        "    gt_tbl_4\n",
        "    .fmt_percent(\n",
        "        columns=[\n",
        "            \"Hydro\", \"Nuclear\", \"Wind\", \"Solar\", \"Geothermal\",\n",
        "            \"Biomass\", \"Gas\", \"Coal\", \"Oil\", \"Unknown\",\n",
        "            \"Hydro Discharge\", \"Battery Discharge\"\n",
        "        ],\n",
        "        decimals=1\n",
        "    )\n",
        ")\n",
        "\n",
        "gt_tbl_5"
      ]
    },
    {
      "cell_type": "markdown",
      "metadata": {},
      "source": [
        "Ensure that the `CO2 Intensity` values are formatted as integers."
      ]
    },
    {
      "cell_type": "code",
      "execution_count": null,
      "metadata": {},
      "outputs": [],
      "source": [
        "gt_tbl_6 = gt_tbl_5.fmt_integer(columns=\"CO2 Intensity\")\n",
        "\n",
        "gt_tbl_6"
      ]
    },
    {
      "cell_type": "markdown",
      "metadata": {},
      "source": [
        "## data_color()\n",
        "\n",
        "Color the cells in the `CO2 Intensity` column according to value (in range of 0 to 900). Use the green to brown palette."
      ]
    },
    {
      "cell_type": "code",
      "execution_count": null,
      "metadata": {},
      "outputs": [],
      "source": [
        "gt_tbl_7 = (\n",
        "    gt_tbl_6\n",
        "    .data_color(\n",
        "        columns=\"CO2 Intensity\",\n",
        "        palette=[\n",
        "            \"#00A600\", \"#E6E600\", \"#E8C32E\",\n",
        "            \"#D69C4E\", \"#Dc863B\", \"sienna\",\n",
        "            \"sienna4\", \"tomato4\", \"brown\"\n",
        "        ],\n",
        "        domain=[0, 900]\n",
        "    )\n",
        ")\n",
        "\n",
        "gt_tbl_7"
      ]
    },
    {
      "cell_type": "markdown",
      "metadata": {},
      "source": [
        "Color the cells in the `Hydro` to `Geothermal` columns according to value (in range of 0 to 1). Use the white to green palette."
      ]
    },
    {
      "cell_type": "code",
      "execution_count": null,
      "metadata": {},
      "outputs": [],
      "source": [
        "gt_tbl_8 = (\n",
        "    gt_tbl_7\n",
        "    .data_color(\n",
        "        columns=[\"Hydro\", \"Nuclear\", \"Wind\", \"Solar\", \"Geothermal\"],\n",
        "        palette=[\"#00A600\", \"chartreuse3\", \"chartreuse4\", \"snow\"][::-1],\n",
        "        domain=[0, 1]\n",
        "    )\n",
        ")\n",
        "\n",
        "gt_tbl_8"
      ]
    },
    {
      "cell_type": "markdown",
      "metadata": {},
      "source": [
        "Color the cells in the `Biomass` column according to value (in range of 0 to 0.3). Use the white to light-brown palette."
      ]
    },
    {
      "cell_type": "code",
      "execution_count": null,
      "metadata": {},
      "outputs": [],
      "source": [
        "gt_tbl_9 = (\n",
        "    gt_tbl_8\n",
        "    .data_color(\n",
        "        columns=\"Biomass\",\n",
        "        palette=[\"snow\", \"#EEC900\", \"#E8C32E\", \"#D69C4E\"],\n",
        "        domain=[0, 0.3]\n",
        "    )\n",
        ")\n",
        "\n",
        "gt_tbl_9"
      ]
    },
    {
      "cell_type": "markdown",
      "metadata": {},
      "source": [
        "Color the cells in the `Gas` to `Oil` columns according to value (in range of 0 to 1). Use the white to dark-brown palette."
      ]
    },
    {
      "cell_type": "code",
      "execution_count": null,
      "metadata": {},
      "outputs": [],
      "source": [
        "gt_tbl_10 = (\n",
        "    gt_tbl_9\n",
        "    .data_color(\n",
        "        columns=[\"Gas\", \"Coal\", \"Oil\"],\n",
        "        palette=[\"tomato4\", \"sienna4\", \"#D69C4E\", \"#Dc863B\", \"snow\"][::-1],\n",
        "        domain=[0, 1]\n",
        "    )\n",
        ")\n",
        "\n",
        "gt_tbl_10"
      ]
    },
    {
      "cell_type": "markdown",
      "metadata": {},
      "source": [
        "Ensure the remaining body cells have the 'snow' color applied."
      ]
    },
    {
      "cell_type": "code",
      "execution_count": null,
      "metadata": {},
      "outputs": [],
      "source": [
        "gt_tbl_11 = (\n",
        "    gt_tbl_10\n",
        "    .data_color(\n",
        "        columns=[\n",
        "            \"Zone\", \"Unknown\", \"Hydro Discharge\", \"Battery Discharge\"\n",
        "        ],\n",
        "        palette=[\"snow\", \"snow\", \"snow\", \"snow\"]\n",
        "    )\n",
        ")\n",
        "\n",
        "gt_tbl_11"
      ]
    },
    {
      "cell_type": "markdown",
      "metadata": {},
      "source": [
        "## cols_align() and tab_options()\n",
        "\n",
        "As a starting point, align all cell contents (and the column labels) with center alignment."
      ]
    },
    {
      "cell_type": "code",
      "execution_count": null,
      "metadata": {},
      "outputs": [],
      "source": [
        "gt_tbl_12 = gt_tbl_11.cols_align(align=\"center\")\n",
        "\n",
        "gt_tbl_12"
      ]
    },
    {
      "cell_type": "markdown",
      "metadata": {},
      "source": [
        "As a tweak, align the `Zone` column to the left."
      ]
    },
    {
      "cell_type": "code",
      "execution_count": null,
      "metadata": {},
      "outputs": [],
      "source": [
        "gt_tbl_13 = gt_tbl_12.cols_align(align=\"left\", columns=\"Zone\")\n",
        "\n",
        "gt_tbl_13"
      ]
    },
    {
      "cell_type": "markdown",
      "metadata": {},
      "source": [
        "Use the 'humanist' font stack for this table."
      ]
    },
    {
      "cell_type": "code",
      "execution_count": null,
      "metadata": {},
      "outputs": [],
      "source": [
        "gt_tbl_14 = gt_tbl_13.opt_table_font(stack=\"humanist\")\n",
        "\n",
        "gt_tbl_14"
      ]
    },
    {
      "cell_type": "markdown",
      "metadata": {},
      "source": [
        "Make some serious tweaks to the table with `tab_options()`."
      ]
    },
    {
      "cell_type": "code",
      "execution_count": null,
      "metadata": {},
      "outputs": [],
      "source": [
        "gt_tbl_15 = (\n",
        "    gt_tbl_14\n",
        "    .tab_options(\n",
        "        source_notes_font_size=\"x-small\",\n",
        "        source_notes_padding=\"3px\",\n",
        "        data_row_padding=\"1px\",\n",
        "        heading_background_color=\"antiquewhite\",\n",
        "        source_notes_background_color=\"antiquewhite\",\n",
        "        column_labels_background_color=\"antiquewhite\",\n",
        "        table_background_color=\"snow\",\n",
        "        data_row_padding_horizontal=\"3px\",\n",
        "        column_labels_padding_horizontal=\"10px\"\n",
        "    )\n",
        ")\n",
        "\n",
        "gt_tbl_15"
      ]
    }
  ],
  "metadata": {
    "kernelspec": {
      "display_name": "Python 3 (ipykernel)",
      "language": "python",
      "name": "python3"
    },
    "language_info": {
      "codemirror_mode": {
        "name": "ipython",
        "version": 3
      },
      "file_extension": ".py",
      "mimetype": "text/x-python",
      "name": "python",
      "nbconvert_exporter": "python",
      "pygments_lexer": "ipython3",
      "version": "3.9.6"
    }
  },
  "nbformat": 4,
  "nbformat_minor": 4
}
