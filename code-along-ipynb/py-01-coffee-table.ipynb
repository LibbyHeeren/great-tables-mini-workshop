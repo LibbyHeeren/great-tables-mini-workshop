{
  "cells": [
    {
      "cell_type": "raw",
      "metadata": {},
      "source": [
        "---\n",
        "output: html\n",
        "html-table-processing: none\n",
        "---"
      ]
    },
    {
      "cell_type": "markdown",
      "metadata": {},
      "source": [
        "# Code Along in Python: Coffee Table\n",
        "\n",
        "## Start\n",
        "\n",
        "Setting up."
      ]
    },
    {
      "cell_type": "code",
      "metadata": {},
      "source": [
        "import polars as pl\n",
        "import polars.selectors as cs\n",
        "from great_tables import GT, loc, style"
      ],
      "execution_count": null,
      "outputs": []
    },
    {
      "cell_type": "markdown",
      "metadata": {},
      "source": [
        "Importing the data."
      ]
    },
    {
      "cell_type": "code",
      "metadata": {},
      "source": [
        "coffee_sales = pl.DataFrame.deserialize(\"data/coffee-sales.json\", format=\"json\")\n",
        "\n",
        "coffee_sales"
      ],
      "execution_count": null,
      "outputs": []
    },
    {
      "cell_type": "markdown",
      "metadata": {},
      "source": [
        "Let's get the data into Great Tables."
      ]
    },
    {
      "cell_type": "code",
      "metadata": {},
      "source": [
        "gt_tbl_1 = #\n",
        "\n",
        "gt_tbl_1"
      ],
      "execution_count": null,
      "outputs": []
    },
    {
      "cell_type": "markdown",
      "metadata": {},
      "source": [
        "## Structure Basics\n",
        "\n",
        "Add a title to the table to explain contents."
      ]
    },
    {
      "cell_type": "code",
      "metadata": {},
      "source": [
        "gt_tbl_2 = # (\n",
        "    #gt_tbl_1\n",
        "#)\n",
        "\n",
        "gt_tbl_2"
      ],
      "execution_count": null,
      "outputs": []
    },
    {
      "cell_type": "markdown",
      "metadata": {},
      "source": [
        "Group numerical columns with a spanner. One grouping should be for revenue columns, another should be for profit columns."
      ]
    },
    {
      "cell_type": "code",
      "metadata": {},
      "source": [
        "gt_tbl_3 = # (\n",
        "    #gt_tbl_2\n",
        "#)\n",
        "\n",
        "gt_tbl_3"
      ],
      "execution_count": null,
      "outputs": []
    },
    {
      "cell_type": "markdown",
      "metadata": {},
      "source": [
        "Change Column labels for readability. The column names are:\n",
        "`icon`, `product`, `revenue_dollars`, `revenue_pct`, `profit_dollars`, `profit_pct`, and `monthly_sales`."
      ]
    },
    {
      "cell_type": "code",
      "metadata": {},
      "source": [
        "gt_tbl_4 = # (\n",
        "    #gt_tbl_3\n",
        "#)\n",
        "\n",
        "gt_tbl_4"
      ],
      "execution_count": null,
      "outputs": []
    },
    {
      "cell_type": "markdown",
      "metadata": {},
      "source": [
        "## Formatting Basics\n",
        "\n",
        "Format the currency values to make them look better."
      ]
    },
    {
      "cell_type": "code",
      "metadata": {},
      "source": [
        "gt_tbl_5 = # (\n",
        "    #gt_tbl_4\n",
        "#)\n",
        "\n",
        "gt_tbl_5"
      ],
      "execution_count": null,
      "outputs": []
    },
    {
      "cell_type": "markdown",
      "metadata": {},
      "source": [
        "Format the fractional values by turning them into percentages."
      ]
    },
    {
      "cell_type": "code",
      "metadata": {},
      "source": [
        "gt_tbl_6 = # (\n",
        "    #gt_tbl_5\n",
        "#)\n",
        "\n",
        "gt_tbl_6"
      ],
      "execution_count": null,
      "outputs": []
    },
    {
      "cell_type": "markdown",
      "metadata": {},
      "source": [
        "## Styling with tab_style()\n",
        "\n",
        "Add an 'aliceblue' background to columns pertaining to revenue."
      ]
    },
    {
      "cell_type": "code",
      "metadata": {},
      "source": [
        "gt_tbl_7 = # (\n",
        "    #gt_tbl_6\n",
        "#)\n",
        "\n",
        "gt_tbl_7"
      ],
      "execution_count": null,
      "outputs": []
    },
    {
      "cell_type": "markdown",
      "metadata": {},
      "source": [
        "Add an 'papayawhip' background to columns pertaining to profit."
      ]
    },
    {
      "cell_type": "code",
      "metadata": {},
      "source": [
        "gt_tbl_8 = # (\n",
        "    #gt_tbl_7\n",
        "#)\n",
        "\n",
        "gt_tbl_8"
      ],
      "execution_count": null,
      "outputs": []
    },
    {
      "cell_type": "markdown",
      "metadata": {},
      "source": [
        "Make the text bold in the bottom row (the totals column)."
      ]
    },
    {
      "cell_type": "code",
      "metadata": {},
      "source": [
        "gt_tbl_9 = # (\n",
        "    #gt_tbl_8\n",
        "#)\n",
        "\n",
        "gt_tbl_9"
      ],
      "execution_count": null,
      "outputs": []
    },
    {
      "cell_type": "markdown",
      "metadata": {},
      "source": [
        "## Three Last Things\n",
        "\n",
        "Add a column of bar plots using the monthly revenue column."
      ]
    },
    {
      "cell_type": "code",
      "metadata": {},
      "source": [
        "gt_tbl_10 = # (\n",
        "    #gt_tbl_9\n",
        "#)\n",
        "\n",
        "gt_tbl_10"
      ],
      "execution_count": null,
      "outputs": []
    },
    {
      "cell_type": "markdown",
      "metadata": {},
      "source": [
        "Add images to the `icon` column. The images are in the `img` directory."
      ]
    },
    {
      "cell_type": "code",
      "metadata": {},
      "source": [
        "gt_tbl_11 = # (\n",
        "    #gt_tbl_10\n",
        "#)\n",
        "\n",
        "gt_tbl_11"
      ],
      "execution_count": null,
      "outputs": []
    },
    {
      "cell_type": "markdown",
      "metadata": {},
      "source": [
        "Turn the `None` cell into a blank cell."
      ]
    },
    {
      "cell_type": "code",
      "metadata": {},
      "source": [
        "gt_tbl_12 = # (\n",
        "    #gt_tbl_11\n",
        "#)\n",
        "\n",
        "gt_tbl_12"
      ],
      "execution_count": null,
      "outputs": []
    }
  ],
  "metadata": {
    "kernelspec": {
      "name": "python3",
      "language": "python",
      "display_name": "Python 3 (ipykernel)"
    }
  },
  "nbformat": 4,
  "nbformat_minor": 4
}